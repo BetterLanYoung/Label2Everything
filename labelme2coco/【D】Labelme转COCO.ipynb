{
 "cells": [
  {
   "cell_type": "markdown",
   "id": "06e5af38-85ad-46b6-a5ea-52a7ff947853",
   "metadata": {},
   "source": [
    "# Labelme转COCO\n",
    "\n",
    "同济子豪兄 呕心沥血写成\n",
    "\n",
    "兼容目标检测、图像分割、关键点检测三种标注\n",
    "\n",
    "2023-3-9\n",
    "\n",
    "2023-3-10\n",
    "\n",
    "2023-4-15"
   ]
  },
  {
   "cell_type": "markdown",
   "id": "b0a8a2a1-fb46-4d51-8b4f-cd0568bc13f8",
   "metadata": {},
   "source": [
    "## 导入工具包"
   ]
  },
  {
   "cell_type": "code",
   "execution_count": 1,
   "id": "5969d148-19e6-4b2e-9797-01105b87b56c",
   "metadata": {},
   "outputs": [],
   "source": [
    "import os\n",
    "import json\n",
    "\n",
    "import numpy as np"
   ]
  },
  {
   "cell_type": "markdown",
   "id": "75c4fd53-f3ce-4a27-9024-6abec83717d9",
   "metadata": {},
   "source": [
    "## 删除系统自动生成的多余文件\n",
    "\n",
    "建议在 Linux 系统中运行爬虫、划分训练集测试集代码"
   ]
  },
  {
   "cell_type": "markdown",
   "id": "b7ecd3ad-874c-46cc-ac47-6f4ae3adf07a",
   "metadata": {},
   "source": [
    "### 查看待删除的多余文件"
   ]
  },
  {
   "cell_type": "code",
   "execution_count": 2,
   "id": "a8356247-4b89-42e9-aa87-4c630f05e1f8",
   "metadata": {},
   "outputs": [],
   "source": [
    "!find . -iname '__MACOSX'"
   ]
  },
  {
   "cell_type": "code",
   "execution_count": 3,
   "id": "a1b64d9d-bdf8-43fe-8321-bb6d241137dc",
   "metadata": {},
   "outputs": [],
   "source": [
    "!find . -iname '.DS_Store'"
   ]
  },
  {
   "cell_type": "code",
   "execution_count": 4,
   "id": "a5f038c2-72ba-4724-a190-b2ec97d8bcf0",
   "metadata": {},
   "outputs": [
    {
     "name": "stdout",
     "output_type": "stream",
     "text": [
      "./.ipynb_checkpoints\n"
     ]
    }
   ],
   "source": [
    "!find . -iname '.ipynb_checkpoints'"
   ]
  },
  {
   "cell_type": "markdown",
   "id": "191ccc29-baeb-46ff-8125-71c49adee533",
   "metadata": {},
   "source": [
    "### 删除多余文件"
   ]
  },
  {
   "cell_type": "code",
   "execution_count": 5,
   "id": "4bf04f95-0750-4248-8696-fa2aa4ff03e5",
   "metadata": {},
   "outputs": [],
   "source": [
    "!for i in `find . -iname '__MACOSX'`; do rm -rf $i;done"
   ]
  },
  {
   "cell_type": "code",
   "execution_count": 6,
   "id": "217b2325-835b-451c-89d7-3d39c5dfc5c2",
   "metadata": {},
   "outputs": [],
   "source": [
    "!for i in `find . -iname '.DS_Store'`; do rm -rf $i;done"
   ]
  },
  {
   "cell_type": "code",
   "execution_count": 7,
   "id": "cfb7afa4-106a-4e6a-ab35-86f0eb902432",
   "metadata": {},
   "outputs": [],
   "source": [
    "!for i in `find . -iname '.ipynb_checkpoints'`; do rm -rf $i;done"
   ]
  },
  {
   "cell_type": "markdown",
   "id": "8a2904f2-93ba-4726-9b2b-b8285511a760",
   "metadata": {},
   "source": [
    "### 验证多余文件已删除"
   ]
  },
  {
   "cell_type": "code",
   "execution_count": 8,
   "id": "33239471-a70e-426d-beba-3517c14311e6",
   "metadata": {},
   "outputs": [],
   "source": [
    "!find . -iname '__MACOSX'"
   ]
  },
  {
   "cell_type": "code",
   "execution_count": 9,
   "id": "f82a7703-8b94-4103-9672-ec29849616b9",
   "metadata": {},
   "outputs": [],
   "source": [
    "!find . -iname '.DS_Store'"
   ]
  },
  {
   "cell_type": "code",
   "execution_count": 10,
   "id": "0101460a-d0bc-4388-aa0b-d30b0f0ef538",
   "metadata": {},
   "outputs": [],
   "source": [
    "!find . -iname '.ipynb_checkpoints'"
   ]
  },
  {
   "cell_type": "markdown",
   "id": "64d63f54-219e-481b-84ba-071e65b3c127",
   "metadata": {},
   "source": [
    "## 进入某一个labelme标注文件的目录"
   ]
  },
  {
   "cell_type": "code",
   "execution_count": 11,
   "id": "7ce8910c-ab54-4f68-a386-ac46840100bf",
   "metadata": {},
   "outputs": [],
   "source": [
    "labelme_folder = 'SJB_25_Dataset/labelme_jsons/train_labelme_jsons'"
   ]
  },
  {
   "cell_type": "code",
   "execution_count": 12,
   "id": "d4ce86a5-597a-4f56-a54f-4581ec54bb09",
   "metadata": {},
   "outputs": [],
   "source": [
    "os.chdir(labelme_folder)"
   ]
  },
  {
   "cell_type": "code",
   "execution_count": 13,
   "id": "e1406f74-680e-4feb-9534-c331232688b5",
   "metadata": {},
   "outputs": [
    {
     "data": {
      "text/plain": [
       "['DSC_0283.json',\n",
       " 'DSC_0293.json',\n",
       " 'DSC_0301.json',\n",
       " 'DSC_0284.json',\n",
       " 'MVIMG_20230331_080908.json',\n",
       " 'DSC_0259.json',\n",
       " 'DSC_0289.json',\n",
       " 'MVIMG_20230331_080914.json',\n",
       " 'DSC_0209.json',\n",
       " 'MVIMG_20230331_080912.json',\n",
       " 'DSC_0285.json',\n",
       " 'DSC_0278.json',\n",
       " 'DSC_0281.json',\n",
       " 'MVIMG_20230331_080915.json',\n",
       " 'DSC_0240.json',\n",
       " 'MVIMG_20230331_080920.json',\n",
       " 'DSC_0282.json',\n",
       " 'DSC_0236.json',\n",
       " 'DSC_0269.json',\n",
       " 'DSC_0219.json']"
      ]
     },
     "execution_count": 13,
     "metadata": {},
     "output_type": "execute_result"
    }
   ],
   "source": [
    "os.listdir()"
   ]
  },
  {
   "cell_type": "markdown",
   "id": "4b4fb7ee-0886-416c-bbaf-6c2dfe7e63c9",
   "metadata": {},
   "source": [
    "## 示例-导入一个labelme格式的json标注文件"
   ]
  },
  {
   "cell_type": "code",
   "execution_count": 14,
   "id": "b17d0e7a-b987-4784-9dfe-a67ebfeefb15",
   "metadata": {},
   "outputs": [],
   "source": [
    "# with open('1.json', 'r', encoding='utf-8') as f:\n",
    "#     labelme = json.load(f)"
   ]
  },
  {
   "cell_type": "code",
   "execution_count": 15,
   "id": "2ddb2f62-b076-491f-83cf-aa4f12c82ea3",
   "metadata": {},
   "outputs": [],
   "source": [
    "# labelme['shapes']"
   ]
  },
  {
   "cell_type": "code",
   "execution_count": 16,
   "id": "2c2b711c-4e34-459b-854f-bfdda7170935",
   "metadata": {},
   "outputs": [],
   "source": [
    "# labelme.keys()"
   ]
  },
  {
   "cell_type": "code",
   "execution_count": 17,
   "id": "9fb38995-4ecc-44b4-a132-1d6851f18961",
   "metadata": {},
   "outputs": [],
   "source": [
    "# labelme['version']"
   ]
  },
  {
   "cell_type": "code",
   "execution_count": 18,
   "id": "376d7a49-d5a1-4827-b68e-7334a231a144",
   "metadata": {},
   "outputs": [],
   "source": [
    "# labelme['flags']"
   ]
  },
  {
   "cell_type": "code",
   "execution_count": 19,
   "id": "1733f8f9-72d4-47f8-a010-2ab98b724afa",
   "metadata": {},
   "outputs": [],
   "source": [
    "# 图像文件名\n",
    "# labelme['imagePath']"
   ]
  },
  {
   "cell_type": "code",
   "execution_count": 20,
   "id": "c0411a3c-8e43-4878-8657-cbdca9e15c18",
   "metadata": {},
   "outputs": [],
   "source": [
    "# labelme['imageData']"
   ]
  },
  {
   "cell_type": "code",
   "execution_count": 21,
   "id": "9bc00c97-9d5f-4664-b502-631cdf2a15b8",
   "metadata": {},
   "outputs": [],
   "source": [
    "# 图像高度\n",
    "# labelme['imageHeight']"
   ]
  },
  {
   "cell_type": "code",
   "execution_count": 22,
   "id": "8185cf9e-84ba-4081-8e4a-db189b10d29e",
   "metadata": {},
   "outputs": [],
   "source": [
    "# 图像宽度\n",
    "# labelme['imageWidth']"
   ]
  },
  {
   "cell_type": "markdown",
   "id": "3e2093d2-f904-40da-b06f-8e844bf86d72",
   "metadata": {},
   "source": [
    "## 创建coco格式的字典"
   ]
  },
  {
   "cell_type": "code",
   "execution_count": 14,
   "id": "270c366b-3283-4e2f-acf1-79fb9f6f8af5",
   "metadata": {},
   "outputs": [],
   "source": [
    "coco = {}"
   ]
  },
  {
   "cell_type": "markdown",
   "id": "76e3dae4-2846-4f7b-ae86-477f1bb52ec1",
   "metadata": {},
   "source": [
    "## info"
   ]
  },
  {
   "cell_type": "code",
   "execution_count": 15,
   "id": "3113d81f-e367-45b1-b954-bc0e51901625",
   "metadata": {},
   "outputs": [],
   "source": [
    "# coco['info'] = {}\n",
    "# coco['info']['description'] = 'Labelme2coco keypoint format script from Zihao'\n",
    "# coco['info']['year'] = 2023\n",
    "# coco['info']['date_created'] = '2023/03/09'"
   ]
  },
  {
   "cell_type": "markdown",
   "id": "0010f997-25e6-43b3-8f5b-e107a2423ed5",
   "metadata": {},
   "source": [
    "## categories"
   ]
  },
  {
   "cell_type": "markdown",
   "id": "f84eb010-9bcc-4a11-ae83-d723b84bc961",
   "metadata": {},
   "source": [
    "supercategory：框的类别（一般只有一个类别）\n",
    "\n",
    "keypoints：节点类别排序，后续的关键点坐标展示顺序\n",
    "\n",
    "skeleton：可有可无，可视化时需要"
   ]
  },
  {
   "cell_type": "code",
   "execution_count": 16,
   "id": "d5300c79-48a3-40f4-a0c8-7dd4a6388aa8",
   "metadata": {},
   "outputs": [],
   "source": [
    "class_list = {\n",
    "    'supercategory': 'sjb_rect',\n",
    "    'id': 1,\n",
    "    'name': 'sjb_rect',\n",
    "    'keypoints': ['angle_30', 'angle_60', 'angle_90'], # 大小写敏感\n",
    "    'skeleton':[[0,1], [0,2], [1,2]]\n",
    "}"
   ]
  },
  {
   "cell_type": "code",
   "execution_count": 17,
   "id": "9e4ab405-1aef-484a-8d39-8d565f54204f",
   "metadata": {},
   "outputs": [],
   "source": [
    "coco['categories'] = []\n",
    "coco['categories'].append(class_list)\n",
    "\n",
    "coco['images'] = []\n",
    "coco['annotations'] = []\n",
    "\n",
    "IMG_ID = 0\n",
    "ANN_ID = 0"
   ]
  },
  {
   "cell_type": "markdown",
   "id": "68f2d4e8-824d-4b19-b529-632c85de25ec",
   "metadata": {},
   "source": [
    "## 函数-处理单个labelme标注json文件"
   ]
  },
  {
   "cell_type": "code",
   "execution_count": 18,
   "id": "a53dbf74-7e72-4ef0-b39e-e03baa198a21",
   "metadata": {},
   "outputs": [],
   "source": [
    "def process_single_json(labelme, image_id=1):\n",
    "    '''\n",
    "    输入labelme的json数据，输出coco格式的每个框的关键点标注信息\n",
    "    '''\n",
    "    \n",
    "    global ANN_ID\n",
    "    \n",
    "    coco_annotations = []\n",
    "    \n",
    "    for each_ann in labelme['shapes']: # 遍历该json文件中的所有标注\n",
    "\n",
    "        if each_ann['shape_type'] == 'rectangle': # 筛选出个体框\n",
    "\n",
    "            # 个体框元数据\n",
    "            bbox_dict = {}\n",
    "            bbox_dict['category_id'] = 1\n",
    "            bbox_dict['segmentation'] = []\n",
    "            \n",
    "            bbox_dict['iscrowd'] = 0\n",
    "            bbox_dict['segmentation'] = []\n",
    "            bbox_dict['image_id'] = image_id\n",
    "            bbox_dict['id'] = ANN_ID\n",
    "            # print(ANN_ID)\n",
    "            ANN_ID += 1\n",
    "\n",
    "            # 获取个体框坐标\n",
    "            bbox_left_top_x = min(int(each_ann['points'][0][0]), int(each_ann['points'][1][0]))\n",
    "            bbox_left_top_y = min(int(each_ann['points'][0][1]), int(each_ann['points'][1][1]))\n",
    "            bbox_right_bottom_x = max(int(each_ann['points'][0][0]), int(each_ann['points'][1][0]))\n",
    "            bbox_right_bottom_y = max(int(each_ann['points'][0][1]), int(each_ann['points'][1][1]))\n",
    "            bbox_w = bbox_right_bottom_x - bbox_left_top_x\n",
    "            bbox_h = bbox_right_bottom_y - bbox_left_top_y\n",
    "            bbox_dict['bbox'] = [bbox_left_top_x, bbox_left_top_y, bbox_w, bbox_h] # 左上角x、y、框的w、h\n",
    "            bbox_dict['area'] = bbox_w * bbox_h\n",
    "            \n",
    "            # 筛选出分割多段线\n",
    "            for each_ann in labelme['shapes']: # 遍历所有标注\n",
    "                if each_ann['shape_type'] == 'polygon': # 筛选出分割多段线标注\n",
    "                    # 第一个点的坐标\n",
    "                    first_x = each_ann['points'][0][0]\n",
    "                    first_y = each_ann['points'][0][1]\n",
    "                    if (first_x>bbox_left_top_x) & (first_x<bbox_right_bottom_x) & (first_y<bbox_right_bottom_y) & (first_y>bbox_left_top_y): # 筛选出在该个体框中的关键点\n",
    "                        bbox_dict['segmentation'] = list(map(lambda x: list(map(lambda y: round(y, 2), x)), each_ann['points'])) # 坐标保留两位小数\n",
    "                        # bbox_dict['segmentation'] = each_ann['points']\n",
    "\n",
    "            # 筛选出该个体框中的所有关键点\n",
    "            bbox_keypoints_dict = {}\n",
    "            for each_ann in labelme['shapes']: # 遍历所有标注\n",
    "                \n",
    "                if each_ann['shape_type'] == 'point': # 筛选出关键点标注\n",
    "                    # 关键点横纵坐标\n",
    "                    x = int(each_ann['points'][0][0])\n",
    "                    y = int(each_ann['points'][0][1])\n",
    "                    label = each_ann['label']\n",
    "                    if (x>bbox_left_top_x) & (x<bbox_right_bottom_x) & (y<bbox_right_bottom_y) & (y>bbox_left_top_y): # 筛选出在该个体框中的关键点\n",
    "                        bbox_keypoints_dict[label] = [x, y]\n",
    "                        \n",
    "            bbox_dict['num_keypoints'] = len(bbox_keypoints_dict)\n",
    "            # print(bbox_keypoints_dict)\n",
    "\n",
    "            # 把关键点按照类别顺序排好\n",
    "            bbox_dict['keypoints'] = []\n",
    "            for each_class in class_list['keypoints']:\n",
    "                if each_class in bbox_keypoints_dict:\n",
    "                    bbox_dict['keypoints'].append(bbox_keypoints_dict[each_class][0])\n",
    "                    bbox_dict['keypoints'].append(bbox_keypoints_dict[each_class][1])\n",
    "                    bbox_dict['keypoints'].append(2) # 2-可见不遮挡 1-遮挡 0-没有点\n",
    "                else: # 不存在的点，一律为0\n",
    "                    bbox_dict['keypoints'].append(0)\n",
    "                    bbox_dict['keypoints'].append(0)\n",
    "                    bbox_dict['keypoints'].append(0)\n",
    "                    \n",
    "            coco_annotations.append(bbox_dict)\n",
    "            \n",
    "    return coco_annotations"
   ]
  },
  {
   "cell_type": "markdown",
   "id": "fb0000c2-7255-488b-8585-d87af4c849b0",
   "metadata": {},
   "source": [
    "## 测试一下函数的效果，处理单个labelme格式的json标注文件"
   ]
  },
  {
   "cell_type": "code",
   "execution_count": 20,
   "id": "5235f915-a441-43c3-9cdf-2eab3698d1c6",
   "metadata": {},
   "outputs": [],
   "source": [
    "# labelme_json_path = 'MVIMG_20230331_080920.json'\n",
    "labelme_json_path = 'DSC_0281.json'\n",
    "\n",
    "with open(labelme_json_path, 'r', encoding='utf-8') as f:\n",
    "    labelme = json.load(f)"
   ]
  },
  {
   "cell_type": "code",
   "execution_count": 21,
   "id": "1c68653e-fcc0-413c-b96d-2befbd370788",
   "metadata": {},
   "outputs": [
    {
     "data": {
      "text/plain": [
       "[{'category_id': 1,\n",
       "  'segmentation': [[1202.0, 28.0], [4454.0, 280.0], [1938.0, 1524.0]],\n",
       "  'iscrowd': 0,\n",
       "  'image_id': 1,\n",
       "  'id': 0,\n",
       "  'bbox': [1138, 0, 3342, 1562],\n",
       "  'area': 5220204,\n",
       "  'num_keypoints': 3,\n",
       "  'keypoints': [4434, 284, 2, 1202, 44, 2, 1934, 1512, 2]},\n",
       " {'category_id': 1,\n",
       "  'segmentation': [[1222.0, 1992.0], [4542.0, 2292.0], [1918.0, 3532.0]],\n",
       "  'iscrowd': 0,\n",
       "  'image_id': 1,\n",
       "  'id': 1,\n",
       "  'bbox': [1160, 1954, 3400, 1612],\n",
       "  'area': 5480800,\n",
       "  'num_keypoints': 3,\n",
       "  'keypoints': [4526, 2316, 2, 1218, 2000, 2, 1906, 3532, 2]}]"
      ]
     },
     "execution_count": 21,
     "metadata": {},
     "output_type": "execute_result"
    }
   ],
   "source": [
    "process_single_json(labelme)"
   ]
  },
  {
   "cell_type": "markdown",
   "id": "a88fa786-8795-459b-9df4-d603f3c4165f",
   "metadata": {},
   "source": [
    "## images和annotations"
   ]
  },
  {
   "cell_type": "code",
   "execution_count": 22,
   "id": "2cabd690-f506-4409-91e2-72b58778be09",
   "metadata": {},
   "outputs": [],
   "source": [
    "IMG_ID = 0\n",
    "ANN_ID = 0"
   ]
  },
  {
   "cell_type": "code",
   "execution_count": 23,
   "id": "8ff03c44-d52f-4ea4-aabe-c5a431f202b7",
   "metadata": {},
   "outputs": [
    {
     "name": "stdout",
     "output_type": "stream",
     "text": [
      "DSC_0283.json 已处理完毕\n",
      "DSC_0293.json 已处理完毕\n",
      "DSC_0301.json 已处理完毕\n",
      "DSC_0284.json 已处理完毕\n",
      "MVIMG_20230331_080908.json 已处理完毕\n",
      "DSC_0259.json 已处理完毕\n",
      "DSC_0289.json 已处理完毕\n",
      "MVIMG_20230331_080914.json 已处理完毕\n",
      "DSC_0209.json 已处理完毕\n",
      "MVIMG_20230331_080912.json 已处理完毕\n",
      "DSC_0285.json 已处理完毕\n",
      "DSC_0278.json 已处理完毕\n",
      "DSC_0281.json 已处理完毕\n",
      "MVIMG_20230331_080915.json 已处理完毕\n",
      "DSC_0240.json 已处理完毕\n",
      "MVIMG_20230331_080920.json 已处理完毕\n",
      "DSC_0282.json 已处理完毕\n",
      "DSC_0236.json 已处理完毕\n",
      "DSC_0269.json 已处理完毕\n",
      "DSC_0219.json 已处理完毕\n"
     ]
    }
   ],
   "source": [
    "# 遍历所有 labelme 格式的 json 文件\n",
    "for labelme_json in os.listdir(): \n",
    "    \n",
    "    if labelme_json.split('.')[-1] == 'json':\n",
    "        \n",
    "        with open(labelme_json, 'r', encoding='utf-8') as f:\n",
    "            \n",
    "            labelme = json.load(f)\n",
    "            \n",
    "            ## 提取图像元数据\n",
    "            img_dict = {}\n",
    "            img_dict['file_name'] = labelme['imagePath']\n",
    "            img_dict['height'] = labelme['imageHeight']\n",
    "            img_dict['width'] = labelme['imageWidth']\n",
    "            img_dict['id'] = IMG_ID\n",
    "            coco['images'].append(img_dict)\n",
    "            \n",
    "            ## 提取框和关键点信息\n",
    "            coco_annotations = process_single_json(labelme, image_id=IMG_ID)\n",
    "            coco['annotations'] += coco_annotations\n",
    "            \n",
    "            IMG_ID += 1\n",
    "            \n",
    "            print(labelme_json, '已处理完毕')\n",
    "\n",
    "    else:\n",
    "        pass"
   ]
  },
  {
   "cell_type": "markdown",
   "id": "91297f39-cf9b-46e7-b8ec-d2dc3fe3caf8",
   "metadata": {},
   "source": [
    "## 保存为MS COCO格式的json标注文件"
   ]
  },
  {
   "cell_type": "code",
   "execution_count": 24,
   "id": "fa9e02a6-7d52-46ec-af90-b7192bda877d",
   "metadata": {},
   "outputs": [],
   "source": [
    "coco_path = '../train_coco.json'\n",
    "# coco_path = '../val_coco.json'"
   ]
  },
  {
   "cell_type": "code",
   "execution_count": 25,
   "id": "20f074ed-dd24-4f49-bdd9-26dd204d0714",
   "metadata": {},
   "outputs": [],
   "source": [
    "with open(coco_path, 'w') as f:\n",
    "    json.dump(coco, f, indent=2)"
   ]
  },
  {
   "cell_type": "code",
   "execution_count": 26,
   "id": "2be6bf0b-8fb9-4708-a44d-5633ef2c8715",
   "metadata": {},
   "outputs": [
    {
     "data": {
      "text/plain": [
       "{'categories': [{'supercategory': 'sjb_rect',\n",
       "   'id': 1,\n",
       "   'name': 'sjb_rect',\n",
       "   'keypoints': ['angle_30', 'angle_60', 'angle_90'],\n",
       "   'skeleton': [[0, 1], [0, 2], [1, 2]]}],\n",
       " 'images': [{'file_name': 'DSC_0283.jpg',\n",
       "   'height': 3712,\n",
       "   'width': 5568,\n",
       "   'id': 0},\n",
       "  {'file_name': 'DSC_0293.jpg', 'height': 5568, 'width': 3128, 'id': 1},\n",
       "  {'file_name': 'DSC_0301.jpg', 'height': 5568, 'width': 3712, 'id': 2},\n",
       "  {'file_name': 'DSC_0284.jpg', 'height': 3712, 'width': 5568, 'id': 3},\n",
       "  {'file_name': 'MVIMG_20230331_080908.jpg',\n",
       "   'height': 3000,\n",
       "   'width': 4000,\n",
       "   'id': 4},\n",
       "  {'file_name': 'DSC_0259.jpg', 'height': 3128, 'width': 5568, 'id': 5},\n",
       "  {'file_name': 'DSC_0289.jpg', 'height': 3128, 'width': 5568, 'id': 6},\n",
       "  {'file_name': 'MVIMG_20230331_080914.jpg',\n",
       "   'height': 3000,\n",
       "   'width': 4000,\n",
       "   'id': 7},\n",
       "  {'file_name': 'DSC_0209.jpg', 'height': 3712, 'width': 5568, 'id': 8},\n",
       "  {'file_name': 'MVIMG_20230331_080912.jpg',\n",
       "   'height': 3000,\n",
       "   'width': 4000,\n",
       "   'id': 9},\n",
       "  {'file_name': 'DSC_0285.jpg', 'height': 3712, 'width': 5568, 'id': 10},\n",
       "  {'file_name': 'DSC_0278.jpg', 'height': 3128, 'width': 5568, 'id': 11},\n",
       "  {'file_name': 'DSC_0281.jpg', 'height': 3712, 'width': 5568, 'id': 12},\n",
       "  {'file_name': 'MVIMG_20230331_080915.jpg',\n",
       "   'height': 3000,\n",
       "   'width': 4000,\n",
       "   'id': 13},\n",
       "  {'file_name': 'DSC_0240.jpg', 'height': 5568, 'width': 3712, 'id': 14},\n",
       "  {'file_name': 'MVIMG_20230331_080920.jpg',\n",
       "   'height': 4000,\n",
       "   'width': 3000,\n",
       "   'id': 15},\n",
       "  {'file_name': 'DSC_0282.jpg', 'height': 3712, 'width': 5568, 'id': 16},\n",
       "  {'file_name': 'DSC_0236.jpg', 'height': 5568, 'width': 3712, 'id': 17},\n",
       "  {'file_name': 'DSC_0269.jpg', 'height': 3128, 'width': 5568, 'id': 18},\n",
       "  {'file_name': 'DSC_0219.jpg', 'height': 5568, 'width': 3712, 'id': 19}],\n",
       " 'annotations': [{'category_id': 1,\n",
       "   'segmentation': [[1410.0, 312.0], [4282.0, 668.0], [1982.0, 1664.0]],\n",
       "   'iscrowd': 0,\n",
       "   'image_id': 0,\n",
       "   'id': 0,\n",
       "   'bbox': [1344, 262, 2964, 1444],\n",
       "   'area': 4280016,\n",
       "   'num_keypoints': 3,\n",
       "   'keypoints': [4266, 672, 2, 1406, 324, 2, 1986, 1656, 2]},\n",
       "  {'category_id': 1,\n",
       "   'segmentation': [[1334.0, 2060.0], [4266.0, 2464.0], [1898.0, 3464.0]],\n",
       "   'iscrowd': 0,\n",
       "   'image_id': 0,\n",
       "   'id': 1,\n",
       "   'bbox': [1288, 2026, 3008, 1456],\n",
       "   'area': 4379648,\n",
       "   'num_keypoints': 3,\n",
       "   'keypoints': [4262, 2472, 2, 1338, 2068, 2, 1882, 3448, 2]},\n",
       "  {'category_id': 1,\n",
       "   'segmentation': [[390.47, 1131.06], [2431.65, 1189.88], [2261.06, 4695.76]],\n",
       "   'iscrowd': 0,\n",
       "   'image_id': 1,\n",
       "   'id': 2,\n",
       "   'bbox': [325, 1048, 2133, 3691],\n",
       "   'area': 7872903,\n",
       "   'num_keypoints': 3,\n",
       "   'keypoints': [2266, 4672, 2, 402, 1142, 2, 2402, 1201, 2]},\n",
       "  {'category_id': 1,\n",
       "   'segmentation': [[476.59, 1584.0], [2664.82, 789.88], [1923.65, 5131.06]],\n",
       "   'iscrowd': 0,\n",
       "   'image_id': 2,\n",
       "   'id': 3,\n",
       "   'bbox': [420, 739, 2327, 4427],\n",
       "   'area': 10301629,\n",
       "   'num_keypoints': 3,\n",
       "   'keypoints': [1953, 5066, 2, 2635, 819, 2, 494, 1601, 2]},\n",
       "  {'category_id': 1,\n",
       "   'segmentation': [[906.0, 1396.0], [3458.0, 140.0], [4226.0, 1608.0]],\n",
       "   'iscrowd': 0,\n",
       "   'image_id': 3,\n",
       "   'id': 4,\n",
       "   'bbox': [852, 122, 3392, 1552],\n",
       "   'area': 5264384,\n",
       "   'num_keypoints': 3,\n",
       "   'keypoints': [922, 1396, 2, 4218, 1600, 2, 3450, 156, 2]},\n",
       "  {'category_id': 1,\n",
       "   'segmentation': [[1110.0, 2048.0], [4378.0, 2460.0], [1762.0, 3572.0]],\n",
       "   'iscrowd': 0,\n",
       "   'image_id': 3,\n",
       "   'id': 5,\n",
       "   'bbox': [1072, 2006, 3324, 1592],\n",
       "   'area': 5291808,\n",
       "   'num_keypoints': 3,\n",
       "   'keypoints': [4354, 2472, 2, 1146, 2060, 2, 1758, 3568, 2]},\n",
       "  {'category_id': 1,\n",
       "   'segmentation': [[675.81, 1919.35], [1001.61, 1093.55], [2630.65, 1141.94]],\n",
       "   'iscrowd': 0,\n",
       "   'image_id': 4,\n",
       "   'id': 6,\n",
       "   'bbox': [653, 1067, 1990, 884],\n",
       "   'area': 1759160,\n",
       "   'num_keypoints': 3,\n",
       "   'keypoints': [2614, 1151, 2, 691, 1909, 2, 1008, 1096, 2]},\n",
       "  {'category_id': 1,\n",
       "   'segmentation': [[185.79, 1864.0], [3521.5, 389.0], [4592.93, 2346.14]],\n",
       "   'iscrowd': 0,\n",
       "   'image_id': 5,\n",
       "   'id': 7,\n",
       "   'bbox': [143, 358, 4481, 2054],\n",
       "   'area': 9203974,\n",
       "   'num_keypoints': 3,\n",
       "   'keypoints': [200, 1864, 2, 4575, 2335, 2, 3507, 399, 2]},\n",
       "  {'category_id': 1,\n",
       "   'segmentation': [[2639.77, 314.0], [1197.46, 2510.15], [2620.54, 2552.46]],\n",
       "   'iscrowd': 0,\n",
       "   'image_id': 6,\n",
       "   'id': 8,\n",
       "   'bbox': [1176, 292, 1509, 2306],\n",
       "   'area': 3479754,\n",
       "   'num_keypoints': 3,\n",
       "   'keypoints': [2650, 335, 2, 1217, 2510, 2, 2614, 2535, 2]},\n",
       "  {'category_id': 1,\n",
       "   'segmentation': [[2978.23, 287.08], [2870.54, 2552.46], [4309.0, 2606.31]],\n",
       "   'iscrowd': 0,\n",
       "   'image_id': 6,\n",
       "   'id': 9,\n",
       "   'bbox': [2835, 252, 1508, 2411],\n",
       "   'area': 3635788,\n",
       "   'num_keypoints': 3,\n",
       "   'keypoints': [2978, 299, 2, 4278, 2581, 2, 2885, 2538, 2]},\n",
       "  {'category_id': 1,\n",
       "   'segmentation': [[950.0, 1467.74], [866.13, 2451.61], [2643.55, 1580.65]],\n",
       "   'iscrowd': 0,\n",
       "   'image_id': 7,\n",
       "   'id': 10,\n",
       "   'bbox': [837, 1432, 1829, 1035],\n",
       "   'area': 1893015,\n",
       "   'num_keypoints': 3,\n",
       "   'keypoints': [2630, 1577, 2, 885, 2438, 2, 972, 1477, 2]},\n",
       "  {'category_id': 1,\n",
       "   'segmentation': [[474.0, 2784.0], [4682.0, 948.0], [4574.0, 3160.0]],\n",
       "   'iscrowd': 0,\n",
       "   'image_id': 8,\n",
       "   'id': 11,\n",
       "   'bbox': [450, 910, 4256, 2288],\n",
       "   'area': 9737728,\n",
       "   'num_keypoints': 3,\n",
       "   'keypoints': [506, 2792, 2, 4658, 980, 2, 4574, 3144, 2]},\n",
       "  {'category_id': 1,\n",
       "   'segmentation': [[2059.68, 1025.81], [1395.16, 1993.55], [2217.74, 2300.0]],\n",
       "   'iscrowd': 0,\n",
       "   'image_id': 9,\n",
       "   'id': 12,\n",
       "   'bbox': [1369, 1006, 893, 1319],\n",
       "   'area': 1177867,\n",
       "   'num_keypoints': 3,\n",
       "   'keypoints': [2053, 1032, 2, 2201, 2270, 2, 1417, 2000, 2]},\n",
       "  {'category_id': 1,\n",
       "   'segmentation': [[526.0, 2140.0], [3810.0, 460.0], [4910.0, 2272.0]],\n",
       "   'iscrowd': 0,\n",
       "   'image_id': 10,\n",
       "   'id': 13,\n",
       "   'bbox': [500, 446, 4428, 1972],\n",
       "   'area': 8732016,\n",
       "   'num_keypoints': 3,\n",
       "   'keypoints': [562, 2144, 2, 4886, 2244, 2, 3810, 468, 2]},\n",
       "  {'category_id': 1,\n",
       "   'segmentation': [[854.0, 2956.0],\n",
       "    [5146.0, 3332.0],\n",
       "    [4442.0, 3688.0],\n",
       "    [1162.0, 3684.0]],\n",
       "   'iscrowd': 0,\n",
       "   'image_id': 10,\n",
       "   'id': 14,\n",
       "   'bbox': [800, 2870, 4376, 836],\n",
       "   'area': 3658336,\n",
       "   'num_keypoints': 2,\n",
       "   'keypoints': [5134, 3352, 2, 870, 2968, 2, 0, 0, 0]},\n",
       "  {'category_id': 1,\n",
       "   'segmentation': [[1157.21, 96.14], [5442.93, 2464.0], [1214.36, 2599.71]],\n",
       "   'iscrowd': 0,\n",
       "   'image_id': 11,\n",
       "   'id': 15,\n",
       "   'bbox': [1080, 50, 4386, 2573],\n",
       "   'area': 11285178,\n",
       "   'num_keypoints': 3,\n",
       "   'keypoints': [5435, 2460, 2, 1164, 81, 2, 1232, 2585, 2]},\n",
       "  {'category_id': 1,\n",
       "   'segmentation': [[1202.0, 28.0], [4454.0, 280.0], [1938.0, 1524.0]],\n",
       "   'iscrowd': 0,\n",
       "   'image_id': 12,\n",
       "   'id': 16,\n",
       "   'bbox': [1138, 0, 3342, 1562],\n",
       "   'area': 5220204,\n",
       "   'num_keypoints': 3,\n",
       "   'keypoints': [4434, 284, 2, 1202, 44, 2, 1934, 1512, 2]},\n",
       "  {'category_id': 1,\n",
       "   'segmentation': [[1222.0, 1992.0], [4542.0, 2292.0], [1918.0, 3532.0]],\n",
       "   'iscrowd': 0,\n",
       "   'image_id': 12,\n",
       "   'id': 17,\n",
       "   'bbox': [1160, 1954, 3400, 1612],\n",
       "   'area': 5480800,\n",
       "   'num_keypoints': 3,\n",
       "   'keypoints': [4526, 2316, 2, 1218, 2000, 2, 1906, 3532, 2]},\n",
       "  {'category_id': 1,\n",
       "   'segmentation': [[1788.71, 1267.74], [1385.48, 2251.61], [3437.1, 1909.68]],\n",
       "   'iscrowd': 0,\n",
       "   'image_id': 13,\n",
       "   'id': 18,\n",
       "   'bbox': [1372, 1241, 2094, 1052],\n",
       "   'area': 2202888,\n",
       "   'num_keypoints': 3,\n",
       "   'keypoints': [3420, 1906, 2, 1391, 2254, 2, 1782, 1267, 2]},\n",
       "  {'category_id': 1,\n",
       "   'segmentation': [[411.88, 613.41], [1058.94, 3948.71], [3300.12, 3507.53]],\n",
       "   'iscrowd': 0,\n",
       "   'image_id': 14,\n",
       "   'id': 19,\n",
       "   'bbox': [329, 563, 2959, 3400],\n",
       "   'area': 10060600,\n",
       "   'num_keypoints': 3,\n",
       "   'keypoints': [453, 642, 2, 3235, 3472, 2, 1058, 3931, 2]},\n",
       "  {'category_id': 1,\n",
       "   'segmentation': [[1310.87, 1269.57], [1123.91, 2791.3], [2454.35, 2626.09]],\n",
       "   'iscrowd': 0,\n",
       "   'image_id': 15,\n",
       "   'id': 20,\n",
       "   'bbox': [1084, 1239, 1396, 1595],\n",
       "   'area': 2226620,\n",
       "   'num_keypoints': 3,\n",
       "   'keypoints': [1310, 1282, 2, 2415, 2613, 2, 1150, 2782, 2]},\n",
       "  {'category_id': 1,\n",
       "   'segmentation': [[1570.0, 164.0], [4834.0, 676.0], [2166.0, 1724.0]],\n",
       "   'iscrowd': 0,\n",
       "   'image_id': 16,\n",
       "   'id': 21,\n",
       "   'bbox': [1520, 130, 3332, 1636],\n",
       "   'area': 5451152,\n",
       "   'num_keypoints': 3,\n",
       "   'keypoints': [4830, 668, 2, 1578, 176, 2, 2178, 1716, 2]},\n",
       "  {'category_id': 1,\n",
       "   'segmentation': [[2138.0, 2092.0], [4846.0, 3020.0], [1586.0, 3672.0]],\n",
       "   'iscrowd': 0,\n",
       "   'image_id': 16,\n",
       "   'id': 22,\n",
       "   'bbox': [1552, 2062, 3326, 1626],\n",
       "   'area': 5408076,\n",
       "   'num_keypoints': 3,\n",
       "   'keypoints': [4838, 3032, 2, 1606, 3664, 2, 2146, 2100, 2]},\n",
       "  {'category_id': 1,\n",
       "   'segmentation': [[382.47, 1725.18], [2447.18, 325.18], [3123.65, 5189.88]],\n",
       "   'iscrowd': 0,\n",
       "   'image_id': 17,\n",
       "   'id': 23,\n",
       "   'bbox': [376, 310, 2824, 4947],\n",
       "   'area': 13970328,\n",
       "   'num_keypoints': 3,\n",
       "   'keypoints': [3111, 5119, 2, 2435, 378, 2, 441, 1719, 2]},\n",
       "  {'category_id': 1,\n",
       "   'segmentation': [[1550.07, 896.14], [4742.93, 610.43], [1778.64, 2817.57]],\n",
       "   'iscrowd': 0,\n",
       "   'image_id': 18,\n",
       "   'id': 24,\n",
       "   'bbox': [1512, 592, 3277, 2239],\n",
       "   'area': 7337203,\n",
       "   'num_keypoints': 3,\n",
       "   'keypoints': [4714, 635, 2, 1792, 2796, 2, 1553, 903, 2]},\n",
       "  {'category_id': 1,\n",
       "   'segmentation': [[2653.06, 1501.65], [723.65, 5025.18], [2782.47, 4913.41]],\n",
       "   'iscrowd': 0,\n",
       "   'image_id': 19,\n",
       "   'id': 25,\n",
       "   'bbox': [647, 1481, 2200, 3585],\n",
       "   'area': 7887000,\n",
       "   'num_keypoints': 3,\n",
       "   'keypoints': [2647, 1513, 2, 747, 5001, 2, 2753, 4907, 2]}]}"
      ]
     },
     "execution_count": 26,
     "metadata": {},
     "output_type": "execute_result"
    }
   ],
   "source": [
    "coco"
   ]
  },
  {
   "cell_type": "markdown",
   "id": "19620709-b2dc-4db5-892f-8854702333e7",
   "metadata": {},
   "source": [
    "## 验证MS COCO格式的标注"
   ]
  },
  {
   "cell_type": "code",
   "execution_count": 27,
   "id": "10fa6971-4520-41fd-b6ca-5560bd2dad03",
   "metadata": {},
   "outputs": [
    {
     "name": "stdout",
     "output_type": "stream",
     "text": [
      "loading annotations into memory...\n",
      "Done (t=0.00s)\n",
      "creating index...\n",
      "index created!\n"
     ]
    }
   ],
   "source": [
    "from pycocotools.coco import COCO\n",
    "\n",
    "my_coco = COCO(coco_path)"
   ]
  },
  {
   "cell_type": "markdown",
   "id": "4df1694d-8562-4a65-afdf-51d6d7e3e724",
   "metadata": {},
   "source": [
    "## 再从头运行测试集文件夹\n",
    "\n",
    "## 得到的`train_coco.json`和`val_coco.json`即为COCO格式的标注文件"
   ]
  },
  {
   "cell_type": "code",
   "execution_count": null,
   "id": "32c73f79-4665-45a2-973e-3ce16635999a",
   "metadata": {},
   "outputs": [],
   "source": []
  }
 ],
 "metadata": {
  "kernelspec": {
   "display_name": "Python 3 (ipykernel)",
   "language": "python",
   "name": "python3"
  },
  "language_info": {
   "codemirror_mode": {
    "name": "ipython",
    "version": 3
   },
   "file_extension": ".py",
   "mimetype": "text/x-python",
   "name": "python",
   "nbconvert_exporter": "python",
   "pygments_lexer": "ipython3",
   "version": "3.7.10"
  }
 },
 "nbformat": 4,
 "nbformat_minor": 5
}
