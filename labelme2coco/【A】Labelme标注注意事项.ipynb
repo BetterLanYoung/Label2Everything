{
 "cells": [
  {
   "cell_type": "markdown",
   "id": "d435b13a-c122-4164-9983-51a1ad207f5e",
   "metadata": {},
   "source": [
    "# Labelme标注注意事项\n",
    "\n",
    "同济子豪兄 2023-3-10\n",
    "\n",
    "1. 每一个物体都要画框\n",
    "\n",
    "2. 框的两个点，必须分别是左上角和右下角，顺序不能错。\n",
    "\n",
    "2. 每一个关键点`必须且只能落入一个框中`，不落入第二个框中\n",
    "\n",
    "3. 可以标分割多段线（polygon），但多段线的第一个点`必须且只能落入一个框中`"
   ]
  },
  {
   "cell_type": "markdown",
   "id": "cdd762a0-cc84-44d7-bf6b-36e7061ae3ce",
   "metadata": {},
   "source": [
    "# MS COCO标注格式\n",
    "\n",
    "https://cocodataset.org/#format-data"
   ]
  },
  {
   "cell_type": "markdown",
   "id": "04c54f12-8868-49b3-96c6-d3250a997aae",
   "metadata": {},
   "source": [
    "# 安装pycocotools"
   ]
  },
  {
   "cell_type": "code",
   "execution_count": 1,
   "id": "10e98636-0d12-45bf-b1cb-95e1f9507fdc",
   "metadata": {},
   "outputs": [
    {
     "name": "stdout",
     "output_type": "stream",
     "text": [
      "Looking in indexes: https://pypi.tuna.tsinghua.edu.cn/simple\n",
      "Collecting pycocotools\n",
      "  Downloading https://pypi.tuna.tsinghua.edu.cn/packages/ef/c6/90220be3b39fbc4cbd203775ca47dd8dc97fae06fbd2b500637395621b7c/pycocotools-2.0.6.tar.gz (24 kB)\n",
      "  Installing build dependencies ... \u001b[?25ldone\n",
      "\u001b[?25h  Getting requirements to build wheel ... \u001b[?25ldone\n",
      "\u001b[?25h    Preparing wheel metadata ... \u001b[?25ldone\n",
      "\u001b[?25hRequirement already satisfied: matplotlib>=2.1.0 in /environment/miniconda3/lib/python3.7/site-packages (from pycocotools) (3.5.0)\n",
      "Requirement already satisfied: numpy in /environment/miniconda3/lib/python3.7/site-packages (from pycocotools) (1.21.6)\n",
      "Requirement already satisfied: pyparsing>=2.2.1 in /environment/miniconda3/lib/python3.7/site-packages (from matplotlib>=2.1.0->pycocotools) (3.0.6)\n",
      "Requirement already satisfied: kiwisolver>=1.0.1 in /environment/miniconda3/lib/python3.7/site-packages (from matplotlib>=2.1.0->pycocotools) (1.3.2)\n",
      "Requirement already satisfied: packaging>=20.0 in /environment/miniconda3/lib/python3.7/site-packages (from matplotlib>=2.1.0->pycocotools) (21.3)\n",
      "Requirement already satisfied: setuptools-scm>=4 in /environment/miniconda3/lib/python3.7/site-packages (from matplotlib>=2.1.0->pycocotools) (6.3.2)\n",
      "Requirement already satisfied: python-dateutil>=2.7 in /environment/miniconda3/lib/python3.7/site-packages (from matplotlib>=2.1.0->pycocotools) (2.8.2)\n",
      "Requirement already satisfied: cycler>=0.10 in /environment/miniconda3/lib/python3.7/site-packages (from matplotlib>=2.1.0->pycocotools) (0.11.0)\n",
      "Requirement already satisfied: pillow>=6.2.0 in /environment/miniconda3/lib/python3.7/site-packages (from matplotlib>=2.1.0->pycocotools) (8.4.0)\n",
      "Requirement already satisfied: fonttools>=4.22.0 in /environment/miniconda3/lib/python3.7/site-packages (from matplotlib>=2.1.0->pycocotools) (4.28.3)\n",
      "Requirement already satisfied: six>=1.5 in /environment/miniconda3/lib/python3.7/site-packages (from python-dateutil>=2.7->matplotlib>=2.1.0->pycocotools) (1.16.0)\n",
      "Requirement already satisfied: tomli>=1.0.0 in /environment/miniconda3/lib/python3.7/site-packages (from setuptools-scm>=4->matplotlib>=2.1.0->pycocotools) (1.2.2)\n",
      "Requirement already satisfied: setuptools in /environment/miniconda3/lib/python3.7/site-packages (from setuptools-scm>=4->matplotlib>=2.1.0->pycocotools) (52.0.0.post20210125)\n",
      "Building wheels for collected packages: pycocotools\n",
      "  Building wheel for pycocotools (PEP 517) ... \u001b[?25ldone\n",
      "\u001b[?25h  Created wheel for pycocotools: filename=pycocotools-2.0.6-cp37-cp37m-linux_x86_64.whl size=374054 sha256=77c74aee12525da97adf59b90566bd12849c69317b55468bf79b1d8fe172e448\n",
      "  Stored in directory: /home/featurize/.cache/pip/wheels/f8/94/70/046149e666bd5812b7de6b87a28dcef238f7162f4108e0b3d8\n",
      "Successfully built pycocotools\n",
      "Installing collected packages: pycocotools\n",
      "Successfully installed pycocotools-2.0.6\n"
     ]
    }
   ],
   "source": [
    "!pip install pycocotools -i https://pypi.tuna.tsinghua.edu.cn/simple"
   ]
  },
  {
   "cell_type": "code",
   "execution_count": null,
   "id": "50d23e8a-56fe-4f37-861e-d3bff0210632",
   "metadata": {},
   "outputs": [],
   "source": []
  }
 ],
 "metadata": {
  "kernelspec": {
   "display_name": "Python 3 (ipykernel)",
   "language": "python",
   "name": "python3"
  },
  "language_info": {
   "codemirror_mode": {
    "name": "ipython",
    "version": 3
   },
   "file_extension": ".py",
   "mimetype": "text/x-python",
   "name": "python",
   "nbconvert_exporter": "python",
   "pygments_lexer": "ipython3",
   "version": "3.7.10"
  }
 },
 "nbformat": 4,
 "nbformat_minor": 5
}
