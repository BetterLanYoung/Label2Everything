{
 "cells": [
  {
   "cell_type": "markdown",
   "id": "de515fbe-d363-4529-b97a-ce5c301eca97",
   "metadata": {},
   "source": [
    "# 下载Labelme样例数据集\n",
    "\n",
    "同济子豪兄 2023-4-15"
   ]
  },
  {
   "cell_type": "code",
   "execution_count": 4,
   "id": "b4209274-5901-4b07-97b7-0fe006144500",
   "metadata": {},
   "outputs": [
    {
     "name": "stdout",
     "output_type": "stream",
     "text": [
      "--2023-04-15 20:04:09--  https://zihao-download.obs.cn-east-3.myhuaweicloud.com/yolov8/datasets/labelme_jsons_dataset.zip\n",
      "正在连接 172.16.0.13:5848... 已连接。\n",
      "已发出 Proxy 请求，正在等待回应... 200 OK\n",
      "长度： 10378 (10K) [application/zip]\n",
      "正在保存至: “labelme_jsons_dataset.zip”\n",
      "\n",
      "labelme_jsons_datas 100%[===================>]  10.13K  --.-KB/s    用时 0s      \n",
      "\n",
      "2023-04-15 20:04:10 (147 MB/s) - 已保存 “labelme_jsons_dataset.zip” [10378/10378])\n",
      "\n"
     ]
    }
   ],
   "source": [
    "# 下载数据集\n",
    "!rm -rf labelme_jsons_dataset.zip labelme_jsons_dataset\n",
    "!wget https://zihao-download.obs.cn-east-3.myhuaweicloud.com/yolov8/datasets/labelme_jsons_dataset.zip"
   ]
  },
  {
   "cell_type": "code",
   "execution_count": 5,
   "id": "2d3c481a-abd8-4474-8645-959a0c8c1759",
   "metadata": {},
   "outputs": [],
   "source": [
    "# 解压\n",
    "!unzip labelme_jsons_dataset.zip >> /dev/null\n",
    "\n",
    "# 删除压缩包\n",
    "!rm -rf labelme_jsons_dataset.zip"
   ]
  },
  {
   "cell_type": "code",
   "execution_count": null,
   "id": "1c54c6bc-294c-4943-8e36-b1fb4cd7ecb8",
   "metadata": {},
   "outputs": [],
   "source": []
  }
 ],
 "metadata": {
  "kernelspec": {
   "display_name": "Python 3 (ipykernel)",
   "language": "python",
   "name": "python3"
  },
  "language_info": {
   "codemirror_mode": {
    "name": "ipython",
    "version": 3
   },
   "file_extension": ".py",
   "mimetype": "text/x-python",
   "name": "python",
   "nbconvert_exporter": "python",
   "pygments_lexer": "ipython3",
   "version": "3.7.10"
  }
 },
 "nbformat": 4,
 "nbformat_minor": 5
}
