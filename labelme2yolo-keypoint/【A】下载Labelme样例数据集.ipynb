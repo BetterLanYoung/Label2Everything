{
 "cells": [
  {
   "cell_type": "markdown",
   "id": "de515fbe-d363-4529-b97a-ce5c301eca97",
   "metadata": {},
   "source": [
    "# 下载Labelme样例数据集\n",
    "\n",
    "# （同labelme2coco）\n",
    "\n",
    "同济子豪兄 2023-4-16\n",
    "\n",
    "SJB_25_Dataset数据集，包含35张30度直角三角板的图像，标注了以下信息：\n",
    "\n",
    "- 目标检测框：30度直角三角板（sjb_rect）\n",
    "\n",
    "- 关键点：30度角点、60角点、90度角点（Angle_30、Angle_60、Angle_90）\n",
    "\n",
    "- 多段线分割：30度直角三角板区域（sjb_poly）"
   ]
  },
  {
   "cell_type": "code",
   "execution_count": 1,
   "id": "b4209274-5901-4b07-97b7-0fe006144500",
   "metadata": {},
   "outputs": [
    {
     "name": "stdout",
     "output_type": "stream",
     "text": [
      "--2023-04-17 12:24:42--  https://zihao-download.obs.cn-east-3.myhuaweicloud.com/yolov8/datasets/SJB_25_Dataset.zip\n",
      "正在连接 172.16.0.13:5848... 已连接。\n",
      "已发出 Proxy 请求，正在等待回应... 200 OK\n",
      "长度： 80856957 (77M) [application/zip]\n",
      "正在保存至: “SJB_25_Dataset.zip”\n",
      "\n",
      "SJB_25_Dataset.zip  100%[===================>]  77.11M  35.7MB/s    用时 2.2s    \n",
      "\n",
      "2023-04-17 12:24:45 (35.7 MB/s) - 已保存 “SJB_25_Dataset.zip” [80856957/80856957])\n",
      "\n"
     ]
    }
   ],
   "source": [
    "# 下载数据集\n",
    "!rm -rf SJB_25_Dataset.zip SJB_25_Dataset\n",
    "!wget https://zihao-download.obs.cn-east-3.myhuaweicloud.com/yolov8/datasets/SJB_25_Dataset.zip"
   ]
  },
  {
   "cell_type": "code",
   "execution_count": 2,
   "id": "2d3c481a-abd8-4474-8645-959a0c8c1759",
   "metadata": {},
   "outputs": [],
   "source": [
    "# 解压\n",
    "!unzip SJB_25_Dataset.zip >> /dev/null\n",
    "\n",
    "# 删除压缩包\n",
    "!rm -rf SJB_25_Dataset.zip"
   ]
  },
  {
   "cell_type": "code",
   "execution_count": null,
   "id": "932b07cf-d4fa-4048-b3c9-35ed58f62780",
   "metadata": {},
   "outputs": [],
   "source": []
  }
 ],
 "metadata": {
  "kernelspec": {
   "display_name": "Python 3 (ipykernel)",
   "language": "python",
   "name": "python3"
  },
  "language_info": {
   "codemirror_mode": {
    "name": "ipython",
    "version": 3
   },
   "file_extension": ".py",
   "mimetype": "text/x-python",
   "name": "python",
   "nbconvert_exporter": "python",
   "pygments_lexer": "ipython3",
   "version": "3.7.10"
  }
 },
 "nbformat": 4,
 "nbformat_minor": 5
}
